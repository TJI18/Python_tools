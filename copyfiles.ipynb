{
 "cells": [
  {
   "cell_type": "code",
   "execution_count": null,
   "metadata": {},
   "outputs": [],
   "source": [
    "import shutil"
   ]
  },
  {
   "cell_type": "code",
   "execution_count": null,
   "metadata": {},
   "outputs": [],
   "source": [
    "source = input(\"input fileslist path \")\n",
    "f = open(source, mode='r')\n",
    "source = [x.replace(\"\\n\", \"\") for x in f]\n",
    "f.close()\n",
    "\n",
    "# print(type(source))\n",
    "\n",
    "target = input(\"target directory \")\n",
    "\n",
    "for file in source:\n",
    "    shutil.copy2(file, target)\n",
    "    # shutil.move(file, target)\n"
   ]
  }
 ],
 "metadata": {
  "kernelspec": {
   "display_name": "deep-first",
   "language": "python",
   "name": "python3"
  },
  "language_info": {
   "codemirror_mode": {
    "name": "ipython",
    "version": 3
   },
   "file_extension": ".py",
   "mimetype": "text/x-python",
   "name": "python",
   "nbconvert_exporter": "python",
   "pygments_lexer": "ipython3",
   "version": "3.7.16"
  },
  "orig_nbformat": 4
 },
 "nbformat": 4,
 "nbformat_minor": 2
}
