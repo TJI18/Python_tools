{
 "cells": [
  {
   "cell_type": "code",
   "execution_count": 3,
   "metadata": {
    "id": "e-naXJZAJEi7"
   },
   "outputs": [],
   "source": [
    "# ライブラリ設定\n",
    "import pathlib\n",
    "import os\n",
    "import sys\n",
    "import difflib\n",
    "from filecmp import dircmp"
   ]
  },
  {
   "cell_type": "code",
   "execution_count": 4,
   "metadata": {
    "id": "09HdtQtQJeLJ"
   },
   "outputs": [],
   "source": [
    "# フォルダ内のファイル数をカウントする 0:Count files\n",
    "# ※再起なのでf.close()はダメ\n",
    "def CountFiles(path, f):\n",
    "    Directory = pathlib.Path(path).glob('*')\n",
    "    counter = 0\n",
    "    Folderlist = []\n",
    " \n",
    "    # フォルダ内のフォルダやファイルをチェックする\n",
    "    for file in Directory:\n",
    "        if file.is_file():\n",
    "            counter += 1\n",
    "        else:\n",
    "            # フォルダーが来た場合は下のfor文が動くようにフォルダリストに追加\n",
    "            Folderlist.append(file)\n",
    "\n",
    "    # テキストに書き出す \n",
    "    output = str(path) + ', ' + str(counter) + '\\n'\n",
    "    f.write(output)\n",
    " \n",
    "    # フォルダ内のサブフォルダを処理する\n",
    "    for Folder in Folderlist:\n",
    "       CountFiles(Folder, f)"
   ]
  },
  {
   "cell_type": "code",
   "execution_count": 5,
   "metadata": {},
   "outputs": [],
   "source": [
    "# ファイル名を取得する 1:Get filenames\n",
    "def GetFileNames(path, f):\n",
    "    Directory = pathlib.Path(path).glob('*')\n",
    "    Folderlist = []\n",
    "    \n",
    "    # プログラム4｜フォルダ内のフォルダやファイルをチェックする\n",
    "    for file in Directory:\n",
    "        if file.is_file():\n",
    "            # デバッグ用\n",
    "            # print(os.path.basename(file))\n",
    "            output = os.path.basename(file) + '\\n'\n",
    "            f.write(output)\n",
    "        else:\n",
    "            # フォルダーが来た場合は下のfor文が動くようにフォルダリストに追加\n",
    "            Folderlist.append(file)\n",
    "    \n",
    "    # プログラム6｜フォルダ内のサブフォルダを処理する\n",
    "    for Folder in Folderlist:\n",
    "        GetFileNames(Folder, f)"
   ]
  },
  {
   "cell_type": "code",
   "execution_count": null,
   "metadata": {},
   "outputs": [],
   "source": [
    "# ファイル名を取得する 2:Get filenames\n",
    "def GetFileNames2(path, f):\n",
    "    Directory = pathlib.Path(path).glob('*')\n",
    "    Folderlist = []\n",
    "    \n",
    "    # プログラム4｜フォルダ内のフォルダやファイルをチェックする\n",
    "    for file in Directory:\n",
    "        if file.is_file():\n",
    "            # デバッグ用\n",
    "            # print(os.path.basename(file))\n",
    "            output = os.path.basename(file) + '\\n'\n",
    "            f.write(output)\n",
    "    \"\"\"\n",
    "        else:\n",
    "            # フォルダーが来た場合は下のfor文が動くようにフォルダリストに追加\n",
    "            Folderlist.append(file)\n",
    "    \n",
    "    # プログラム6｜フォルダ内のサブフォルダを処理する\n",
    "    for Folder in Folderlist:\n",
    "        GetFileNames(Folder, f)\n",
    "    \"\"\""
   ]
  },
  {
   "cell_type": "code",
   "execution_count": 6,
   "metadata": {},
   "outputs": [],
   "source": [
    "# フォルダー内の比較 被ってないファイルを抽出 3:Compare two directories\n",
    "def CompareDirs(dcmp):\n",
    "    for name in dcmp.left_only:\n",
    "        print('{} only exists in {}'.format(name, dcmp.left))\n",
    "    for name in dcmp.right_only:\n",
    "        print('{} only exists in{}'.format(name, dcmp.right))\n",
    "    \n",
    "    # ディレクトリ構造が違うと動作しない\n",
    "    for name in dcmp.diff_files:\n",
    "        print('{} exists in both but have different contents'.format(name))\n",
    "\n",
    "        \"\"\"\n",
    "        # テキストファイルの場合、ファイル内の差分を表示する。\n",
    "        if name.endswith('.txt') or name.endswith('.html'):\n",
    "            diff_text = difflib.context_diff(open(os.path.join(dcmp.left, name)).readlines(),\n",
    "                                             open(os.path.join(dcmp.right, name)).readlines())\n",
    "            sys.stdout.writelines(diff_text)\n",
    "        \"\"\"\n",
    "    # 再帰的に探す（サブフォルダを探す）\n",
    "    for sub_dcmp in dcmp.subdirs.values():\n",
    "        CompareDirs(sub_dcmp)"
   ]
  },
  {
   "cell_type": "code",
   "execution_count": 7,
   "metadata": {},
   "outputs": [],
   "source": [
    "# カウントしたデータを確認する\n",
    "def ReadCountedData(fname, f):\n",
    "    f = open(fname, mode='r')\n",
    "    print(\"Showing\", fname)\n",
    "    print(\"---------------------\")\n",
    "    print(f.read())\n",
    "    f.close()"
   ]
  },
  {
   "cell_type": "code",
   "execution_count": 8,
   "metadata": {},
   "outputs": [],
   "source": [
    "# 使用する関数のチェック \n",
    "def CheckMode(path):\n",
    "    \n",
    "    while True:\n",
    "        try:\n",
    "            mode = input(\"Select a mode \\n0:Count files, 1:Get filenames, 2:Get filenames w/o subfolder, 3:Compare two directories\")\n",
    "            # ここでは必ずbreakする\n",
    "            if int(mode) == 0:\n",
    "                print(\"Counting files\")\n",
    "                OutputName = path.split('\\\\')[-1] + \"_filenums.csv\"\n",
    "                f = open(OutputName, mode='w')\n",
    "                CountFiles(path, f)\n",
    "                f.close()\n",
    "                ReadCountedData(OutputName, f)\n",
    "                break\n",
    "            elif int(mode) == 1:\n",
    "                print(\"Getting filenames\")\n",
    "                OutputName = path.split('\\\\')[-1] + \"_fileslist.csv\"\n",
    "                f = open(OutputName, mode='w')\n",
    "                GetFileNames(path, f)\n",
    "                f.close()\n",
    "                ReadCountedData(OutputName, f)\n",
    "                break\n",
    "            elif int(mode) == 2:\n",
    "                print(\"Getting filenames w/o subfolder\")\n",
    "                OutputName = path.split('\\\\')[-1] + \"_fileslist.csv\"\n",
    "                f = open(OutputName, mode='w')\n",
    "                GetFileNames2(path, f)\n",
    "                f.close()\n",
    "                ReadCountedData(OutputName, f)\n",
    "                break\n",
    "            elif int(mode) == 3:\n",
    "                path2 = input(\"Enter the other directory: \")\n",
    "                print(\"Comparing two directories\")\n",
    "                print(\"---------------------\")\n",
    "                CompareDirs(dircmp(path, path2))\n",
    "                break\n",
    "            else:\n",
    "                print(\"Please enter No. between 0 to 2\")\n",
    "                continue\n",
    "        except ValueError as e:\n",
    "            print(\"Please enter numbers only.\", e)\n",
    "            continue"
   ]
  },
  {
   "cell_type": "code",
   "execution_count": 9,
   "metadata": {},
   "outputs": [],
   "source": [
    "# mainプロシージャ\n",
    "def main():\n",
    "    # データはターゲットに保存される\n",
    "    Folderpath = input(\"Enter the target directory: \")\n",
    "    CheckMode(Folderpath)\n",
    "    # GetFileNames(Folderpath, f)\n",
    "    # CountFolderFile(Folderpath, f)\n",
    "    # f.close()"
   ]
  },
  {
   "cell_type": "code",
   "execution_count": 10,
   "metadata": {
    "id": "6-TnCDetJhe1"
   },
   "outputs": [
    {
     "name": "stdout",
     "output_type": "stream",
     "text": [
      "Getting filenames\n",
      "Showing Atest_fileslist.csv\n",
      "---------------------\n",
      "Atest_filenames.txt\n",
      "Atest_filenums.csv\n",
      "Atest_fileslist.csv\n",
      "checkfolders.ipynb\n",
      "compare.ipynb\n",
      "copyfiles.ipynb\n",
      "findfiles.ipynb\n",
      "getfilenames.py\n",
      "idalo\n",
      "jason\n",
      "test.txt\n",
      "tim\n",
      "tim.txt\n",
      "\n"
     ]
    }
   ],
   "source": [
    "# mainを呼び出す\n",
    "if __name__ == \"__main__\":\n",
    "    main()"
   ]
  }
 ],
 "metadata": {
  "colab": {
   "name": "count.ipynb",
   "provenance": []
  },
  "kernelspec": {
   "display_name": "deep-first",
   "language": "python",
   "name": "python3"
  },
  "language_info": {
   "codemirror_mode": {
    "name": "ipython",
    "version": 3
   },
   "file_extension": ".py",
   "mimetype": "text/x-python",
   "name": "python",
   "nbconvert_exporter": "python",
   "pygments_lexer": "ipython3",
   "version": "3.7.16"
  }
 },
 "nbformat": 4,
 "nbformat_minor": 1
}
